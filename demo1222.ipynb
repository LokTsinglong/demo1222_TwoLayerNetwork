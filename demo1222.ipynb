{
 "cells": [
  {
   "cell_type": "code",
   "execution_count": 1,
   "id": "3fa7297d-dc5f-4c48-9bf2-61527d2d361f",
   "metadata": {},
   "outputs": [],
   "source": [
    "from sklearn.datasets import fetch_openml\n",
    "from sklearn.model_selection import train_test_split\n",
    "mnist=fetch_openml('mnist_784',version=1) # the data type of mnist is bunch\n",
    "X,y=mnist['data'],mnist['target'] # X is DataFrame, and y is Series\n",
    "npar_X, npar_y = X.values, y.astype(int).values # the original data in y is string"
   ]
  },
  {
   "cell_type": "code",
   "execution_count": 11,
   "id": "1d678dfd-1105-45a5-9cba-2d8932ed55b2",
   "metadata": {},
   "outputs": [
    {
     "name": "stdout",
     "output_type": "stream",
     "text": [
      "(70000,)\n",
      "(70000, 10)\n"
     ]
    }
   ],
   "source": [
    "# one_hot encoding for y\n",
    "from sklearn.preprocessing import OneHotEncoder\n",
    "encoder=OneHotEncoder(sparse_output=False)\n",
    "npar_y_oh=encoder.fit_transform(npar_y.reshape(-1,1))\n",
    "print(npar_y.shape)\n",
    "print(npar_y_oh.shape)"
   ]
  },
  {
   "cell_type": "code",
   "execution_count": 15,
   "id": "9be7377f-a803-40bd-b6e6-b619a9995e31",
   "metadata": {},
   "outputs": [
    {
     "name": "stdout",
     "output_type": "stream",
     "text": [
      "(56000, 784)\n",
      "(56000, 10)\n",
      "(56000, 784)\n",
      "(14000, 10)\n"
     ]
    }
   ],
   "source": [
    "# train_test_split\n",
    "X_train,X_test,y_train,y_test = train_test_split(npar_X,npar_y_oh,test_size=0.2,random_state=42)\n",
    "print(X_train.shape)\n",
    "print(y_train.shape)\n",
    "print(X_train.shape)\n",
    "print(y_test.shape)"
   ]
  },
  {
   "cell_type": "code",
   "execution_count": 17,
   "id": "58b78868-0eaf-45b7-874f-1a4c101d64ea",
   "metadata": {},
   "outputs": [],
   "source": [
    "def sigmoid(x):\n",
    "    return 1/1+np.exp(-x)\n",
    "def softmax(x):\n",
    "    x_max=np.max(x)\n",
    "    x_new=x-x_max\n",
    "    exp_x=np.exp(x_new)\n",
    "    sum_exp_x=np.sum(exp_x)\n",
    "    return exp_x/sum_exp_x"
   ]
  },
  {
   "cell_type": "code",
   "execution_count": 19,
   "id": "4fb67911-b6e0-43e1-8db6-032363556589",
   "metadata": {},
   "outputs": [],
   "source": [
    "def cross_entropy_error(y,t):\n",
    "    if y.ndim==1 or t.ndim==1:\n",
    "        t.reshape(1,t.size)\n",
    "        y.reshape(1,y.size)\n",
    "    batch_size=y.shape[0]\n",
    "    return -np.sum(t*np.log(y+1e-7))/batch_size"
   ]
  },
  {
   "cell_type": "code",
   "execution_count": 51,
   "id": "d5dc6725-f868-4f4f-be5e-a56d001ea870",
   "metadata": {},
   "outputs": [],
   "source": [
    "def numerical_gradient(f,x): # x is a vector\n",
    "    grads=np.zeros_like(x)\n",
    "    h=1e-4\n",
    "    for idx in range(x.size): #'int' object is not iterable\n",
    "        tmp=x[idx]\n",
    "        x[idx]=tmp+h\n",
    "        f1=f(x)\n",
    "        x[idx]=tmp-h\n",
    "        f2=f(x)\n",
    "        grads[idx]=(f1-f2)/2*h\n",
    "    return grads\n",
    "def numerical_gradient_W(f,x):\n",
    "    grads=np.zeros_like(x)\n",
    "    h=1e-4\n",
    "    for idx1 in range(x.shape[0]): \n",
    "        for idx2 in range(x.shape[1]): #'int' object is not iterable\n",
    "            tmp=x[idx1][idx2]\n",
    "            x[idx1][idx2]=tmp+h\n",
    "            f1=f(x)\n",
    "            x[idx1][idx2]=tmp-h\n",
    "            f2=f(x)\n",
    "            grads[idx1][idx2]=(f1-f2)/2*h\n",
    "    return grads"
   ]
  },
  {
   "cell_type": "code",
   "execution_count": 59,
   "id": "ba9b07fb-3252-4b0d-ac19-0ffe1bd143b0",
   "metadata": {},
   "outputs": [],
   "source": [
    "class TwoLayerNet:\n",
    "    def __init__(self,input_size,hidden_size,output_size,weight_init_std=0.01):\n",
    "        self.params={}\n",
    "        self.params['W1']=weight_init_std*np.random.randn(input_size,hidden_size)\n",
    "        self.params['b1']=np.zeros(hidden_size)\n",
    "        self.params['W2']=weight_init_std*np.random.randn(hidden_size,output_size)\n",
    "        self.params['b2']=np.zeros(output_size)\n",
    "    def predict(self,x):\n",
    "        W1,W2=self.params['W1'],self.params['W2']\n",
    "        b1,b2=self.params['b1'],self.params['b2']\n",
    "        a1=np.dot(x,W1)+b1\n",
    "        Z1=sigmoid(a1)\n",
    "        a2=np.dot(Z1,W2)+b2\n",
    "        y=softmax(a2)\n",
    "        return y # Must remember to add a return here! Otherwise, y will become Nonetype !\n",
    "    def loss(self,x,t):\n",
    "        y=self.predict(x)\n",
    "        return cross_entropy_error(y,t)\n",
    "    def accuracy(self,x,t):\n",
    "        y=self.predict(x)\n",
    "        y=np.argmax(y,axis=1)# row direction\n",
    "        t=np.argmax(t,axis=1)\n",
    "        accuracy=np.sum(y==t)/float(x.shape[0])\n",
    "        return accuracy\n",
    "    def numerical_gradient(self,x,t):\n",
    "        loss_W=lambda W: self.loss(x,t) # anonymous function\n",
    "        grads={}\n",
    "        grads['W1']=numerical_gradient_W(loss_W,self.params['W1'])\n",
    "        grads['b1']=numerical_gradient(loss_W,self.params['b1'])\n",
    "        grads['W2']=numerical_gradient_W(loss_W,self.params['W2'])\n",
    "        grads['b2']=numerical_gradient(loss_W,self.params['b2'])\n",
    "        return grads"
   ]
  },
  {
   "cell_type": "code",
   "execution_count": 61,
   "id": "30324113-a0ea-4a09-9bd9-7a0b97b35adc",
   "metadata": {},
   "outputs": [],
   "source": [
    "import numpy as np\n",
    "network=TwoLayerNet(input_size=784,hidden_size=100,output_size=10)"
   ]
  },
  {
   "cell_type": "code",
   "execution_count": 37,
   "id": "61fa11a1-8885-4748-84b0-1154228e8141",
   "metadata": {},
   "outputs": [
    {
     "name": "stdout",
     "output_type": "stream",
     "text": [
      "(784, 100)\n",
      "(100,)\n",
      "(100, 10)\n",
      "(100,)\n"
     ]
    }
   ],
   "source": [
    "print(network.params['W1'].shape)\n",
    "print(network.params['b1'].shape)\n",
    "print(network.params['W2'].shape)\n",
    "print(network.params['b1'].shape)"
   ]
  },
  {
   "cell_type": "code",
   "execution_count": 63,
   "id": "f0ffe35b-25c0-47e6-8a49-354ca6ad2467",
   "metadata": {},
   "outputs": [
    {
     "name": "stdout",
     "output_type": "stream",
     "text": [
      "(100, 10)\n",
      "[[0.00067407 0.00115557 0.00090699 0.00088504 0.00078098 0.00125954\n",
      "  0.0010759  0.0012445  0.00114749 0.00088299]\n",
      " [0.00067713 0.00114939 0.00092821 0.00086369 0.00077747 0.00129363\n",
      "  0.00107318 0.00121851 0.00112876 0.00086322]\n",
      " [0.00067601 0.00115974 0.0009185  0.00087777 0.00078587 0.00125612\n",
      "  0.00106831 0.0012458  0.00112124 0.00088044]\n",
      " [0.00067168 0.0011682  0.00092299 0.00087547 0.00077395 0.00125561\n",
      "  0.00107265 0.00123325 0.00113988 0.00086844]\n",
      " [0.00068102 0.00116788 0.00092083 0.00086285 0.00077981 0.00123935\n",
      "  0.0010802  0.00122227 0.00114768 0.00087507]]\n"
     ]
    }
   ],
   "source": [
    "x=np.random.rand(100,784)\n",
    "y=network.predict(x)\n",
    "print(y.shape)\n",
    "print(y[:5])"
   ]
  },
  {
   "cell_type": "code",
   "execution_count": 47,
   "id": "4916e8e1-5b86-4fdc-a5e0-b62832343deb",
   "metadata": {},
   "outputs": [
    {
     "name": "stdout",
     "output_type": "stream",
     "text": [
      "(100, 10)\n",
      "[[0.70463618 0.27538688 0.91193995 0.59485648 0.74581229 0.44461943\n",
      "  0.19487171 0.87154424 0.49608018 0.46656214]\n",
      " [0.68963219 0.37598222 0.81540459 0.30188208 0.26383209 0.82316901\n",
      "  0.20735306 0.90424706 0.03366783 0.92266239]\n",
      " [0.28513915 0.89189896 0.14239904 0.45718301 0.31300986 0.76403229\n",
      "  0.71506301 0.55496826 0.21568884 0.58507453]\n",
      " [0.62915294 0.85649429 0.06531954 0.69326936 0.21264488 0.84041212\n",
      "  0.77577135 0.23081563 0.01981447 0.06898094]\n",
      " [0.934198   0.62894788 0.15205622 0.25851171 0.57944887 0.28224965\n",
      "  0.30017834 0.11382467 0.78980168 0.16235504]]\n"
     ]
    }
   ],
   "source": [
    "t=np.random.rand(100,10) # tag and supervision data\n",
    "print(t.shape)\n",
    "print(t[:5])"
   ]
  },
  {
   "cell_type": "code",
   "execution_count": 67,
   "id": "12dfb581-26ad-4b38-b292-d5502db565a5",
   "metadata": {},
   "outputs": [
    {
     "name": "stdout",
     "output_type": "stream",
     "text": [
      "(784, 100)\n",
      "(100,)\n",
      "(100, 10)\n",
      "(100,)\n"
     ]
    }
   ],
   "source": [
    "grads=network.numerical_gradient(x,t)\n",
    "print(grads['W1'].shape)\n",
    "print(grads['b1'].shape)\n",
    "print(grads['W2'].shape)\n",
    "print(grads['b1'].shape)"
   ]
  },
  {
   "cell_type": "code",
   "execution_count": null,
   "id": "4b20f265-dec1-4d62-9f74-30dad79fe4de",
   "metadata": {},
   "outputs": [],
   "source": [
    "#setting hyper parameter\n",
    "iters_num=10000\n",
    "train_size=X_train.shape[0]\n",
    "batch_size=100\n",
    "learning_rate=0.1\n",
    "train_loss_list=[]#an empty list\n",
    "network=TwoLayerNet(input_size=784,hidden_size=50,output_size=10)\n",
    "for i in range(iters_num):\n",
    "    #get mini batch\n",
    "    batch_mask=np.random.choice(train_size,batch_size)\n",
    "    X_batch=X_train[batch_mask]\n",
    "    t_batch=y_train[batch_mask]\n",
    "    grad=network.numerical_gradient(X_batch,t_batch)\n",
    "    # renew the parameters\n",
    "    for key in ('W1','b1','W2','b2'): # tuple is also an iterable object\n",
    "        network.params[key]=-learning_rate*grad[key]\n",
    "    loss=network.loss(X_batch,t_batch)\n",
    "    train_loss_list.append(loss)\n",
    "        "
   ]
  },
  {
   "cell_type": "code",
   "execution_count": null,
   "id": "5afc1dd0-3f30-4dbb-ab79-dcb0af529f6c",
   "metadata": {},
   "outputs": [],
   "source": []
  }
 ],
 "metadata": {
  "kernelspec": {
   "display_name": "Python 3 (ipykernel)",
   "language": "python",
   "name": "python3"
  },
  "language_info": {
   "codemirror_mode": {
    "name": "ipython",
    "version": 3
   },
   "file_extension": ".py",
   "mimetype": "text/x-python",
   "name": "python",
   "nbconvert_exporter": "python",
   "pygments_lexer": "ipython3",
   "version": "3.12.7"
  }
 },
 "nbformat": 4,
 "nbformat_minor": 5
}
